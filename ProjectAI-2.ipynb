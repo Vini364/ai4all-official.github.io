{
 "cells": [
  {
   "cell_type": "code",
   "execution_count": 4,
   "id": "b013200c-9f7f-4480-8fe8-5910b06b3797",
   "metadata": {},
   "outputs": [
    {
     "data": {
      "text/html": [
       "<div>\n",
       "<style scoped>\n",
       "    .dataframe tbody tr th:only-of-type {\n",
       "        vertical-align: middle;\n",
       "    }\n",
       "\n",
       "    .dataframe tbody tr th {\n",
       "        vertical-align: top;\n",
       "    }\n",
       "\n",
       "    .dataframe thead th {\n",
       "        text-align: right;\n",
       "    }\n",
       "</style>\n",
       "<table border=\"1\" class=\"dataframe\">\n",
       "  <thead>\n",
       "    <tr style=\"text-align: right;\">\n",
       "      <th></th>\n",
       "      <th>Restaurant</th>\n",
       "      <th>Reviewer</th>\n",
       "      <th>Review</th>\n",
       "      <th>Rating</th>\n",
       "      <th>Metadata</th>\n",
       "      <th>Time</th>\n",
       "      <th>Pictures</th>\n",
       "      <th>7514</th>\n",
       "    </tr>\n",
       "  </thead>\n",
       "  <tbody>\n",
       "    <tr>\n",
       "      <th>0</th>\n",
       "      <td>Beyond Flavours</td>\n",
       "      <td>Rusha Chakraborty</td>\n",
       "      <td>The ambience was good, food was quite good . h...</td>\n",
       "      <td>5</td>\n",
       "      <td>1 Review , 2 Followers</td>\n",
       "      <td>5/25/2019 15:54</td>\n",
       "      <td>0</td>\n",
       "      <td>2447.0</td>\n",
       "    </tr>\n",
       "    <tr>\n",
       "      <th>1</th>\n",
       "      <td>Beyond Flavours</td>\n",
       "      <td>Anusha Tirumalaneedi</td>\n",
       "      <td>Ambience is too good for a pleasant evening. S...</td>\n",
       "      <td>5</td>\n",
       "      <td>3 Reviews , 2 Followers</td>\n",
       "      <td>5/25/2019 14:20</td>\n",
       "      <td>0</td>\n",
       "      <td>NaN</td>\n",
       "    </tr>\n",
       "    <tr>\n",
       "      <th>2</th>\n",
       "      <td>Beyond Flavours</td>\n",
       "      <td>Ashok Shekhawat</td>\n",
       "      <td>A must try.. great food great ambience. Thnx f...</td>\n",
       "      <td>5</td>\n",
       "      <td>2 Reviews , 3 Followers</td>\n",
       "      <td>5/24/2019 22:54</td>\n",
       "      <td>0</td>\n",
       "      <td>NaN</td>\n",
       "    </tr>\n",
       "    <tr>\n",
       "      <th>3</th>\n",
       "      <td>Beyond Flavours</td>\n",
       "      <td>Swapnil Sarkar</td>\n",
       "      <td>Soumen das and Arun was a great guy. Only beca...</td>\n",
       "      <td>5</td>\n",
       "      <td>1 Review , 1 Follower</td>\n",
       "      <td>5/24/2019 22:11</td>\n",
       "      <td>0</td>\n",
       "      <td>NaN</td>\n",
       "    </tr>\n",
       "    <tr>\n",
       "      <th>4</th>\n",
       "      <td>Beyond Flavours</td>\n",
       "      <td>Dileep</td>\n",
       "      <td>Food is good.we ordered Kodi drumsticks and ba...</td>\n",
       "      <td>5</td>\n",
       "      <td>3 Reviews , 2 Followers</td>\n",
       "      <td>5/24/2019 21:37</td>\n",
       "      <td>0</td>\n",
       "      <td>NaN</td>\n",
       "    </tr>\n",
       "  </tbody>\n",
       "</table>\n",
       "</div>"
      ],
      "text/plain": [
       "        Restaurant              Reviewer  \\\n",
       "0  Beyond Flavours     Rusha Chakraborty   \n",
       "1  Beyond Flavours  Anusha Tirumalaneedi   \n",
       "2  Beyond Flavours       Ashok Shekhawat   \n",
       "3  Beyond Flavours        Swapnil Sarkar   \n",
       "4  Beyond Flavours                Dileep   \n",
       "\n",
       "                                              Review Rating  \\\n",
       "0  The ambience was good, food was quite good . h...      5   \n",
       "1  Ambience is too good for a pleasant evening. S...      5   \n",
       "2  A must try.. great food great ambience. Thnx f...      5   \n",
       "3  Soumen das and Arun was a great guy. Only beca...      5   \n",
       "4  Food is good.we ordered Kodi drumsticks and ba...      5   \n",
       "\n",
       "                  Metadata             Time  Pictures    7514  \n",
       "0   1 Review , 2 Followers  5/25/2019 15:54         0  2447.0  \n",
       "1  3 Reviews , 2 Followers  5/25/2019 14:20         0     NaN  \n",
       "2  2 Reviews , 3 Followers  5/24/2019 22:54         0     NaN  \n",
       "3    1 Review , 1 Follower  5/24/2019 22:11         0     NaN  \n",
       "4  3 Reviews , 2 Followers  5/24/2019 21:37         0     NaN  "
      ]
     },
     "execution_count": 4,
     "metadata": {},
     "output_type": "execute_result"
    }
   ],
   "source": [
    "from sklearn.feature_extraction.text import CountVectorizer\n",
    "import pandas as pd\n",
    "import numpy as np\n",
    "import matplotlib.pyplot as plt\n",
    "import seaborn as sns\n",
    "import string\n",
    "from textblob import TextBlob\n",
    "from sklearn.model_selection import train_test_split\n",
    "from sklearn.feature_extraction.text import TfidfVectorizer\n",
    "from sklearn.linear_model import LogisticRegression\n",
    "from sklearn.metrics import classification_report, confusion_matrix\n",
    "import re\n",
    "from textblob import TextBlob\n",
    "from vaderSentiment.vaderSentiment import SentimentIntensityAnalyzer\n",
    "from sklearn.model_selection import train_test_split\n",
    "from sklearn.feature_extraction.text import TfidfVectorizer\n",
    "from sklearn.linear_model import LogisticRegression\n",
    "from sklearn.metrics import classification_report, accuracy_score\n",
    "import nltk\n",
    "\n",
    "df = pd.read_csv(\"Downloads/Restaurant reviews.csv\")\n",
    "\n",
    "\n",
    "df.head()\n"
   ]
  },
  {
   "cell_type": "code",
   "execution_count": 5,
   "id": "054ce32c-dc50-40ae-99dd-0d5c66016354",
   "metadata": {},
   "outputs": [
    {
     "name": "stdout",
     "output_type": "stream",
     "text": [
      "<class 'pandas.core.frame.DataFrame'>\n",
      "RangeIndex: 10000 entries, 0 to 9999\n",
      "Data columns (total 8 columns):\n",
      " #   Column      Non-Null Count  Dtype  \n",
      "---  ------      --------------  -----  \n",
      " 0   Restaurant  10000 non-null  object \n",
      " 1   Reviewer    9962 non-null   object \n",
      " 2   Review      9955 non-null   object \n",
      " 3   Rating      9962 non-null   object \n",
      " 4   Metadata    9962 non-null   object \n",
      " 5   Time        9962 non-null   object \n",
      " 6   Pictures    10000 non-null  int64  \n",
      " 7   7514        1 non-null      float64\n",
      "dtypes: float64(1), int64(1), object(6)\n",
      "memory usage: 625.1+ KB\n"
     ]
    }
   ],
   "source": [
    "df.info()"
   ]
  },
  {
   "cell_type": "code",
   "execution_count": 6,
   "id": "81b31f8f-1752-4c2a-b4a9-11815e982925",
   "metadata": {},
   "outputs": [
    {
     "data": {
      "text/plain": [
       "Rating\n",
       "5       3832\n",
       "4       2373\n",
       "1       1735\n",
       "3       1193\n",
       "2        684\n",
       "4.5       69\n",
       "3.5       47\n",
       "2.5       19\n",
       "1.5        9\n",
       "Like       1\n",
       "Name: count, dtype: int64"
      ]
     },
     "execution_count": 6,
     "metadata": {},
     "output_type": "execute_result"
    }
   ],
   "source": [
    "df['Rating'].value_counts()"
   ]
  },
  {
   "cell_type": "code",
   "execution_count": 7,
   "id": "9259eb66-317f-499a-a209-492cc2c91810",
   "metadata": {},
   "outputs": [],
   "source": [
    "df.drop(index=df[df['Rating']=='Like'].index,inplace=True)"
   ]
  },
  {
   "cell_type": "code",
   "execution_count": 8,
   "id": "7d87a44c-0084-4332-9e16-1f0097f641b3",
   "metadata": {},
   "outputs": [
    {
     "data": {
      "text/plain": [
       "0    positive\n",
       "1    positive\n",
       "2    positive\n",
       "3    positive\n",
       "4    positive\n",
       "Name: binary_sentiment, dtype: object"
      ]
     },
     "execution_count": 8,
     "metadata": {},
     "output_type": "execute_result"
    }
   ],
   "source": [
    "def rating_to_sentiment(rating):\n",
    "    if rating >= 3:\n",
    "        return 'positive'\n",
    "    else:\n",
    "        return 'negative'\n",
    "df['Rating'] = df['Rating'].apply(float)\n",
    "df['sentiment'] = df['Rating'].apply(rating_to_sentiment)\n",
    "df['binary_sentiment'] = df['Rating'].apply(lambda x: 'positive' if x >= 3 else 'negative')\n",
    "df['binary_sentiment'].head()"
   ]
  },
  {
   "cell_type": "code",
   "execution_count": 10,
   "id": "4f111929-4fa3-4a09-8d89-e8e4df30bf0f",
   "metadata": {},
   "outputs": [
    {
     "data": {
      "text/plain": [
       "'hi im i cannot eat this h'"
      ]
     },
     "execution_count": 10,
     "metadata": {},
     "output_type": "execute_result"
    }
   ],
   "source": [
    "def preprocess_text(text):\n",
    "    text = text.lower()\n",
    "    text = text.replace(\"don't\", \"do not\")\n",
    "    text = text.replace(\"won't\", \"will not\")\n",
    "    text = text.replace(\"can't\", \"cannot\")\n",
    "    text = text.replace(\"n't\", \" not\")\n",
    "    text = re.sub(r'[^a-zA-Z\\s]', '', text)\n",
    "    text = re.sub(r'\\s+', ' ', text).strip()\n",
    "    \n",
    "\n",
    "    return text\n",
    "df['Review'] = df['Review'].fillna(\"\")\n",
    "df['cleaned_comments'] = df['Review'].apply(preprocess_text)\n",
    "preprocess_text(\"Hi I'm 9876576767 8787878787 I can't 9 eat this &^%H@#$%\")"
   ]
  },
  {
   "cell_type": "code",
   "execution_count": 11,
   "id": "84e9f9d1-1b6c-4566-9a41-828fcca8d6da",
   "metadata": {},
   "outputs": [
    {
     "data": {
      "text/plain": [
       "sentiment\n",
       "positive    7514\n",
       "negative    2485\n",
       "Name: count, dtype: int64"
      ]
     },
     "execution_count": 11,
     "metadata": {},
     "output_type": "execute_result"
    }
   ],
   "source": [
    "df['sentiment'].value_counts()"
   ]
  },
  {
   "cell_type": "code",
   "execution_count": 26,
   "id": "a6a4a0dd-4e1d-4eee-91a0-f5f0906bf4a5",
   "metadata": {},
   "outputs": [
    {
     "name": "stderr",
     "output_type": "stream",
     "text": [
      "/var/folders/vz/17g6c8rn0cg61kgd_10lmz300000gn/T/ipykernel_75034/3316946635.py:3: FutureWarning: Series.__getitem__ treating keys as positions is deprecated. In a future version, integer keys will always be treated as labels (consistent with DataFrame behavior). To access a value by position, use `ser.iloc[pos]`\n",
      "  counts = [review_counts[0], review_counts[1]]\n",
      "/var/folders/vz/17g6c8rn0cg61kgd_10lmz300000gn/T/ipykernel_75034/3316946635.py:7: FutureWarning: \n",
      "\n",
      "Passing `palette` without assigning `hue` is deprecated and will be removed in v0.14.0. Assign the `x` variable to `hue` and set `legend=False` for the same effect.\n",
      "\n",
      "  sns.barplot(x=labels, y=counts, palette=['green', 'red'])\n"
     ]
    },
    {
     "data": {
      "image/png": "[encoded data removed]",
      "text/plain": [
       "<Figure size 800x500 with 1 Axes>"
      ]
     },
     "metadata": {},
     "output_type": "display_data"
    }
   ],
   "source": [
    "review_counts = df['sentiment'].value_counts()\n",
    "labels = ['positive', 'negative']\n",
    "counts = [review_counts[0], review_counts[1]]\n",
    "\n",
    "# Plotting\n",
    "plt.figure(figsize=(8, 5))\n",
    "sns.barplot(x=labels, y=counts, palette=['green', 'red'])\n",
    "\n",
    "plt.title('Number of Positive and Negative Reviews')\n",
    "plt.xlabel('Review Type')\n",
    "plt.ylabel('Number of Reviews')\n",
    "plt.show()"
   ]
  },
  {
   "cell_type": "code",
   "execution_count": 26,
   "id": "83f51a04-46b7-4bf6-bbff-fb02d0a97e9e",
   "metadata": {},
   "outputs": [
    {
     "name": "stderr",
     "output_type": "stream",
     "text": [
      "/var/folders/vz/17g6c8rn0cg61kgd_10lmz300000gn/T/ipykernel_75034/3316946635.py:3: FutureWarning: Series.__getitem__ treating keys as positions is deprecated. In a future version, integer keys will always be treated as labels (consistent with DataFrame behavior). To access a value by position, use `ser.iloc[pos]`\n",
      "  counts = [review_counts[0], review_counts[1]]\n",
      "/var/folders/vz/17g6c8rn0cg61kgd_10lmz300000gn/T/ipykernel_75034/3316946635.py:7: FutureWarning: \n",
      "\n",
      "Passing `palette` without assigning `hue` is deprecated and will be removed in v0.14.0. Assign the `x` variable to `hue` and set `legend=False` for the same effect.\n",
      "\n",
      "  sns.barplot(x=labels, y=counts, palette=['green', 'red'])\n"
     ]
    },
    {
     "data": {
      "image/png": "[encoded data removed]",
      "text/plain": [
       "<Figure size 800x500 with 1 Axes>"
      ]
     },
     "metadata": {},
     "output_type": "display_data"
    }
   ],
   "source": [
    "review_counts = df['sentiment'].value_counts()\n",
    "labels = ['positive', 'negative']\n",
    "counts = [review_counts[0], review_counts[1]]\n",
    "\n",
    "# Plotting\n",
    "plt.figure(figsize=(8, 5))\n",
    "sns.barplot(x=labels, y=counts, palette=['green', 'red'])\n",
    "\n",
    "plt.title('Number of Positive and Negative Reviews')\n",
    "plt.xlabel('Review Type')\n",
    "plt.ylabel('Number of Reviews')\n",
    "plt.show()"
   ]
  },
  {
   "cell_type": "code",
   "execution_count": 12,
   "id": "abd62338-0cc2-4a91-ae5f-49128b244965",
   "metadata": {},
   "outputs": [
    {
     "name": "stdout",
     "output_type": "stream",
     "text": [
      "\n",
      "Most Frequent Words:\n",
      "good        7007\n",
      "food        6488\n",
      "place       5663\n",
      "service     3156\n",
      "chicken     3043\n",
      "taste       2214\n",
      "ordered     2163\n",
      "ambience    2044\n",
      "great       1936\n",
      "really      1659\n",
      "dtype: int64\n"
     ]
    }
   ],
   "source": [
    "vectorizer = CountVectorizer(stop_words='english', lowercase=True)\n",
    "\n",
    "X = vectorizer.fit_transform(df['cleaned_comments'])\n",
    "y = df['sentiment'] \n",
    "X_train, X_test, y_train, y_test = train_test_split(X, y, test_size=0.2, random_state=42)\n",
    "\n",
    "feature_names = vectorizer.get_feature_names_out()\n",
    "\n",
    "bow_df = pd.DataFrame(X.toarray(), columns=feature_names)\n",
    "\n",
    "word_frequencies = bow_df.sum().sort_values(ascending=False)\n",
    "print(\"\\nMost Frequent Words:\")\n",
    "print(word_frequencies.head(10))\n",
    "\n"
   ]
  },
  {
   "cell_type": "code",
   "execution_count": 13,
   "id": "436af10e-ee1d-4c77-857e-c28909a543f6",
   "metadata": {},
   "outputs": [
    {
     "name": "stdout",
     "output_type": "stream",
     "text": [
      "\n",
      "Model: Naive Bayes\n",
      "Accuracy: 0.889\n",
      "              precision    recall  f1-score   support\n",
      "\n",
      "    negative       0.83      0.72      0.77       515\n",
      "    positive       0.91      0.95      0.93      1485\n",
      "\n",
      "    accuracy                           0.89      2000\n",
      "   macro avg       0.87      0.83      0.85      2000\n",
      "weighted avg       0.89      0.89      0.89      2000\n",
      "\n",
      "\n",
      "Model: Logistic Regression\n",
      "Accuracy: 0.890\n",
      "              precision    recall  f1-score   support\n",
      "\n",
      "    negative       0.83      0.72      0.77       515\n",
      "    positive       0.91      0.95      0.93      1485\n",
      "\n",
      "    accuracy                           0.89      2000\n",
      "   macro avg       0.87      0.83      0.85      2000\n",
      "weighted avg       0.89      0.89      0.89      2000\n",
      "\n",
      "\n",
      "Model: Linear SVC\n",
      "Accuracy: 0.876\n",
      "              precision    recall  f1-score   support\n",
      "\n",
      "    negative       0.78      0.73      0.75       515\n",
      "    positive       0.91      0.93      0.92      1485\n",
      "\n",
      "    accuracy                           0.88      2000\n",
      "   macro avg       0.84      0.83      0.83      2000\n",
      "weighted avg       0.87      0.88      0.87      2000\n",
      "\n",
      "\n",
      "Model: Random Forest\n",
      "Accuracy: 0.877\n",
      "              precision    recall  f1-score   support\n",
      "\n",
      "    negative       0.82      0.67      0.74       515\n",
      "    positive       0.89      0.95      0.92      1485\n",
      "\n",
      "    accuracy                           0.88      2000\n",
      "   macro avg       0.86      0.81      0.83      2000\n",
      "weighted avg       0.87      0.88      0.87      2000\n",
      "\n"
     ]
    }
   ],
   "source": [
    "from sklearn.naive_bayes import MultinomialNB\n",
    "from sklearn.linear_model import LogisticRegression\n",
    "from sklearn.svm import LinearSVC\n",
    "from sklearn.ensemble import RandomForestClassifier\n",
    "from sklearn.metrics import accuracy_score, classification_report\n",
    "\n",
    "models = {\n",
    "    \"Naive Bayes\": MultinomialNB(),\n",
    "    \"Logistic Regression\": LogisticRegression(max_iter=1000),\n",
    "    \"Linear SVC\": LinearSVC(),\n",
    "    \"Random Forest\": RandomForestClassifier(n_estimators=100, random_state=42),\n",
    "}\n",
    "\n",
    "results = {}\n",
    "\n",
    "for name, model in models.items():\n",
    "    model.fit(X_train, y_train)\n",
    "    preds = model.predict(X_test)\n",
    "    acc = accuracy_score(y_test, preds)\n",
    "    print(f\"\\nModel: {name}\")\n",
    "    print(f\"Accuracy: {acc:.3f}\")\n",
    "    print(classification_report(y_test, preds))\n",
    "    results[name] = acc"
   ]
  },
  {
   "cell_type": "code",
   "execution_count": 14,
   "id": "9ade6240-0f3a-4868-8436-c8277f1056ab",
   "metadata": {},
   "outputs": [
    {
     "data": {
      "image/png": "[encoded data removed]",
      "text/plain": [
       "<Figure size 640x480 with 1 Axes>"
      ]
     },
     "metadata": {},
     "output_type": "display_data"
    }
   ],
   "source": [
    "plt.bar(results.keys(), results.values())\n",
    "plt.ylabel('Accuracy')\n",
    "plt.title('Model Comparison')\n",
    "plt.xticks(rotation=45)\n",
    "plt.ylim(0, 1)\n",
    "plt.show()"
   ]
  },
  {
   "cell_type": "code",
   "execution_count": 12,
   "id": "27597000-74d6-43b8-a5b3-254c2e4f09da",
   "metadata": {},
   "outputs": [
    {
     "name": "stdout",
     "output_type": "stream",
     "text": [
      "\n",
      "Most Frequent Words:\n",
      "good        856.523212\n",
      "food        464.160687\n",
      "place       379.657042\n",
      "service     298.303116\n",
      "chicken     247.448685\n",
      "nice        237.261424\n",
      "taste       233.074320\n",
      "great       219.674277\n",
      "ambience    199.078084\n",
      "time        197.505645\n",
      "dtype: float64\n"
     ]
    }
   ],
   "source": [
    "vectorizer = TfidfVectorizer(stop_words='english', lowercase=True)\n",
    "\n",
    "X = vectorizer.fit_transform(df['cleaned_comments'])\n",
    "y = df['sentiment'] \n",
    "X_train, X_test, y_train, y_test = train_test_split(X, y, test_size=0.2, random_state=42)\n",
    "\n",
    "feature_names = vectorizer.get_feature_names_out()\n",
    "\n",
    "bow_df = pd.DataFrame(X.toarray(), columns=feature_names)\n",
    "\n",
    "word_frequencies = bow_df.sum().sort_values(ascending=False)\n",
    "print(\"\\nMost Frequent Words:\")\n",
    "print(word_frequencies.head(10))\n",
    "\n"
   ]
  },
  {
   "cell_type": "code",
   "execution_count": 15,
   "id": "e009f7a7-6cf3-442b-8d98-1dec12b22d38",
   "metadata": {},
   "outputs": [
    {
     "name": "stdout",
     "output_type": "stream",
     "text": [
      "\n",
      "Model: Naive Bayes\n",
      "Accuracy: 0.889\n",
      "              precision    recall  f1-score   support\n",
      "\n",
      "    negative       0.83      0.72      0.77       515\n",
      "    positive       0.91      0.95      0.93      1485\n",
      "\n",
      "    accuracy                           0.89      2000\n",
      "   macro avg       0.87      0.83      0.85      2000\n",
      "weighted avg       0.89      0.89      0.89      2000\n",
      "\n",
      "\n",
      "Model: Logistic Regression\n",
      "Accuracy: 0.888\n",
      "              precision    recall  f1-score   support\n",
      "\n",
      "    negative       0.75      0.86      0.80       515\n",
      "    positive       0.95      0.90      0.92      1485\n",
      "\n",
      "    accuracy                           0.89      2000\n",
      "   macro avg       0.85      0.88      0.86      2000\n",
      "weighted avg       0.90      0.89      0.89      2000\n",
      "\n",
      "\n",
      "Model: Linear SVC\n",
      "Accuracy: 0.876\n",
      "              precision    recall  f1-score   support\n",
      "\n",
      "    negative       0.78      0.73      0.75       515\n",
      "    positive       0.91      0.93      0.92      1485\n",
      "\n",
      "    accuracy                           0.88      2000\n",
      "   macro avg       0.84      0.83      0.83      2000\n",
      "weighted avg       0.87      0.88      0.87      2000\n",
      "\n",
      "\n",
      "Model: Random Forest\n",
      "Accuracy: 0.877\n",
      "              precision    recall  f1-score   support\n",
      "\n",
      "    negative       0.82      0.67      0.74       515\n",
      "    positive       0.89      0.95      0.92      1485\n",
      "\n",
      "    accuracy                           0.88      2000\n",
      "   macro avg       0.86      0.81      0.83      2000\n",
      "weighted avg       0.87      0.88      0.87      2000\n",
      "\n"
     ]
    }
   ],
   "source": [
    "from sklearn.naive_bayes import MultinomialNB\n",
    "from sklearn.linear_model import LogisticRegression\n",
    "from sklearn.svm import LinearSVC\n",
    "from sklearn.ensemble import RandomForestClassifier\n",
    "from sklearn.metrics import accuracy_score, classification_report\n",
    "\n",
    "models = {\n",
    "    \"Naive Bayes\": MultinomialNB(),\n",
    "    \"Logistic Regression\": LogisticRegression(max_iter=1000, class_weight= 'balanced'),\n",
    "    \"Linear SVC\": LinearSVC(),\n",
    "    \"Random Forest\": RandomForestClassifier(n_estimators=100, random_state=42),\n",
    "}\n",
    "\n",
    "results = {}\n",
    "\n",
    "for name, model in models.items():\n",
    "    model.fit(X_train, y_train)\n",
    "    preds = model.predict(X_test)\n",
    "    acc = accuracy_score(y_test, preds)\n",
    "    print(f\"\\nModel: {name}\")\n",
    "    print(f\"Accuracy: {acc:.3f}\")\n",
    "    print(classification_report(y_test, preds))\n",
    "    results[name] = acc"
   ]
  },
  {
   "cell_type": "code",
   "execution_count": null,
   "id": "df047b4a-48eb-45fc-a1f1-5d9d4cb76f36",
   "metadata": {},
   "outputs": [],
   "source": []
  },
  {
   "cell_type": "code",
   "execution_count": 16,
   "id": "e52f1c33-916c-4264-8aa2-07520b67ca42",
   "metadata": {},
   "outputs": [
    {
     "data": {
      "image/png": "[encoded data removed]",
      "text/plain": [
       "<Figure size 640x480 with 1 Axes>"
      ]
     },
     "metadata": {},
     "output_type": "display_data"
    }
   ],
   "source": [
    "plt.bar(results.keys(), results.values())\n",
    "plt.ylabel('Accuracy')\n",
    "plt.title('Model Comparison')\n",
    "plt.xticks(rotation=45)\n",
    "plt.ylim(0, 1)\n",
    "plt.show()"
   ]
  },
  {
   "cell_type": "code",
   "execution_count": 17,
   "id": "2226a89f-e73c-4195-bbb3-78474b76ecab",
   "metadata": {},
   "outputs": [
    {
     "data": {
      "text/plain": [
       "'the cat be run fast than the other cat .'"
      ]
     },
     "execution_count": 17,
     "metadata": {},
     "output_type": "execute_result"
    }
   ],
   "source": [
    "import spacy\n",
    "nlp = spacy.load('en_core_web_sm')\n",
    "def lemmatize_review(text):\n",
    "    words = nlp(text)\n",
    "    txt = ' '.join(word.lemma_ for word in words)\n",
    "    return txt\n",
    "\n",
    "lemmatize_review(\"the cats are running faster than the other cat.\")"
   ]
  },
  {
   "cell_type": "code",
   "execution_count": 20,
   "id": "385347d4-42ea-4582-8e8a-0975063f8397",
   "metadata": {},
   "outputs": [],
   "source": [
    "df['lemmatized_comments'] = df['cleaned_comments'].apply(lemmatize_review)"
   ]
  },
  {
   "cell_type": "code",
   "execution_count": 21,
   "id": "3e12f716-d997-49b0-9008-9fff9eb81993",
   "metadata": {},
   "outputs": [],
   "source": [
    "vectorizer = CountVectorizer(stop_words='english', lowercase=True)\n",
    "X = vectorizer.fit_transform(df['lemmatized_comments'])\n",
    "y = df['sentiment'] \n",
    "X_train, X_test, y_train, y_test = train_test_split(X, y, test_size=0.2, random_state=42)"
   ]
  },
  {
   "cell_type": "code",
   "execution_count": 22,
   "id": "8470b5e5-ffb7-4eb6-a83f-ce69d3fd93de",
   "metadata": {},
   "outputs": [
    {
     "name": "stdout",
     "output_type": "stream",
     "text": [
      "\n",
      "Model: Naive Bayes\n",
      "Accuracy: 0.885\n",
      "              precision    recall  f1-score   support\n",
      "\n",
      "    negative       0.82      0.71      0.76       515\n",
      "    positive       0.91      0.94      0.92      1485\n",
      "\n",
      "    accuracy                           0.89      2000\n",
      "   macro avg       0.86      0.83      0.84      2000\n",
      "weighted avg       0.88      0.89      0.88      2000\n",
      "\n",
      "\n",
      "Model: Logistic Regression\n",
      "Accuracy: 0.879\n",
      "              precision    recall  f1-score   support\n",
      "\n",
      "    negative       0.73      0.84      0.78       515\n",
      "    positive       0.94      0.89      0.92      1485\n",
      "\n",
      "    accuracy                           0.88      2000\n",
      "   macro avg       0.84      0.87      0.85      2000\n",
      "weighted avg       0.89      0.88      0.88      2000\n",
      "\n",
      "\n",
      "Model: Linear SVC\n",
      "Accuracy: 0.872\n",
      "              precision    recall  f1-score   support\n",
      "\n",
      "    negative       0.77      0.71      0.74       515\n",
      "    positive       0.90      0.93      0.91      1485\n",
      "\n",
      "    accuracy                           0.87      2000\n",
      "   macro avg       0.84      0.82      0.83      2000\n",
      "weighted avg       0.87      0.87      0.87      2000\n",
      "\n",
      "\n",
      "Model: Random Forest\n",
      "Accuracy: 0.883\n",
      "              precision    recall  f1-score   support\n",
      "\n",
      "    negative       0.84      0.68      0.75       515\n",
      "    positive       0.90      0.95      0.92      1485\n",
      "\n",
      "    accuracy                           0.88      2000\n",
      "   macro avg       0.87      0.82      0.84      2000\n",
      "weighted avg       0.88      0.88      0.88      2000\n",
      "\n"
     ]
    }
   ],
   "source": [
    "from sklearn.naive_bayes import MultinomialNB\n",
    "from sklearn.linear_model import LogisticRegression\n",
    "from sklearn.svm import LinearSVC\n",
    "from sklearn.ensemble import RandomForestClassifier\n",
    "from sklearn.metrics import accuracy_score, classification_report\n",
    "\n",
    "models = {\n",
    "    \"Naive Bayes\": MultinomialNB(),\n",
    "    \"Logistic Regression\": LogisticRegression(max_iter=1000, class_weight= 'balanced'),\n",
    "    \"Linear SVC\": LinearSVC(),\n",
    "    \"Random Forest\": RandomForestClassifier(n_estimators=100, random_state=42),\n",
    "}\n",
    "\n",
    "results = {}\n",
    "\n",
    "for name, model in models.items():\n",
    "    model.fit(X_train, y_train)\n",
    "    preds = model.predict(X_test)\n",
    "    acc = accuracy_score(y_test, preds)\n",
    "    print(f\"\\nModel: {name}\")\n",
    "    print(f\"Accuracy: {acc:.3f}\")\n",
    "    print(classification_report(y_test, preds))\n",
    "    results[name] = acc"
   ]
  },
  {
   "cell_type": "code",
   "execution_count": 23,
   "id": "967c68cb-a849-4b95-931f-9a06f4c032bc",
   "metadata": {},
   "outputs": [],
   "source": [
    "vectorizer = TfidfVectorizer(stop_words='english', lowercase=True)\n",
    "\n",
    "X = vectorizer.fit_transform(df['lemmatized_comments'])\n",
    "y = df['sentiment'] \n",
    "X_train, X_test, y_train, y_test = train_test_split(X, y, test_size=0.2, random_state=42)\n",
    "\n"
   ]
  },
  {
   "cell_type": "code",
   "execution_count": 24,
   "id": "991ec2d6-cf19-4695-89bd-aa0ea369a447",
   "metadata": {},
   "outputs": [
    {
     "name": "stdout",
     "output_type": "stream",
     "text": [
      "\n",
      "Model: Naive Bayes\n",
      "Accuracy: 0.800\n",
      "              precision    recall  f1-score   support\n",
      "\n",
      "    negative       0.97      0.23      0.37       515\n",
      "    positive       0.79      1.00      0.88      1485\n",
      "\n",
      "    accuracy                           0.80      2000\n",
      "   macro avg       0.88      0.61      0.63      2000\n",
      "weighted avg       0.83      0.80      0.75      2000\n",
      "\n",
      "\n",
      "Model: Logistic Regression\n",
      "Accuracy: 0.881\n",
      "              precision    recall  f1-score   support\n",
      "\n",
      "    negative       0.72      0.89      0.79       515\n",
      "    positive       0.96      0.88      0.92      1485\n",
      "\n",
      "    accuracy                           0.88      2000\n",
      "   macro avg       0.84      0.88      0.86      2000\n",
      "weighted avg       0.90      0.88      0.88      2000\n",
      "\n",
      "\n",
      "Model: Linear SVC\n",
      "Accuracy: 0.893\n",
      "              precision    recall  f1-score   support\n",
      "\n",
      "    negative       0.83      0.73      0.78       515\n",
      "    positive       0.91      0.95      0.93      1485\n",
      "\n",
      "    accuracy                           0.89      2000\n",
      "   macro avg       0.87      0.84      0.85      2000\n",
      "weighted avg       0.89      0.89      0.89      2000\n",
      "\n",
      "\n",
      "Model: Random Forest\n",
      "Accuracy: 0.879\n",
      "              precision    recall  f1-score   support\n",
      "\n",
      "    negative       0.84      0.65      0.74       515\n",
      "    positive       0.89      0.96      0.92      1485\n",
      "\n",
      "    accuracy                           0.88      2000\n",
      "   macro avg       0.87      0.81      0.83      2000\n",
      "weighted avg       0.88      0.88      0.87      2000\n",
      "\n"
     ]
    }
   ],
   "source": [
    "from sklearn.naive_bayes import MultinomialNB\n",
    "from sklearn.linear_model import LogisticRegression\n",
    "from sklearn.svm import LinearSVC\n",
    "from sklearn.ensemble import RandomForestClassifier\n",
    "from sklearn.metrics import accuracy_score, classification_report\n",
    "\n",
    "models = {\n",
    "    \"Naive Bayes\": MultinomialNB(),\n",
    "    \"Logistic Regression\": LogisticRegression(max_iter=1000, class_weight= 'balanced'),\n",
    "    \"Linear SVC\": LinearSVC(),\n",
    "    \"Random Forest\": RandomForestClassifier(n_estimators=100, random_state=42),\n",
    "}\n",
    "\n",
    "results = {}\n",
    "\n",
    "for name, model in models.items():\n",
    "    model.fit(X_train, y_train)\n",
    "    preds = model.predict(X_test)\n",
    "    acc = accuracy_score(y_test, preds)\n",
    "    print(f\"\\nModel: {name}\")\n",
    "    print(f\"Accuracy: {acc:.3f}\")\n",
    "    print(classification_report(y_test, preds))\n",
    "    results[name] = acc"
   ]
  }
 ],
 "metadata": {
  "kernelspec": {
   "display_name": "Python 3 (ipykernel)",
   "language": "python",
   "name": "python3"
  },
  "language_info": {
   "codemirror_mode": {
    "name": "ipython",
    "version": 3
   },
   "file_extension": ".py",
   "mimetype": "text/x-python",
   "name": "python",
   "nbconvert_exporter": "python",
   "pygments_lexer": "ipython3",
   "version": "3.12.0"
  }
 },
 "nbformat": 4,
 "nbformat_minor": 5
}
