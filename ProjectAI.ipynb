{
 "cells": [
  {
   "cell_type": "code",
   "execution_count": 1,
   "id": "b013200c-9f7f-4480-8fe8-5910b06b3797",
   "metadata": {},
   "outputs": [
    {
     "name": "stderr",
     "output_type": "stream",
     "text": [
      "[nltk_data] Downloading package punkt to\n",
      "[nltk_data]     /Users/vineshuniyal/nltk_data...\n",
      "[nltk_data]   Package punkt is already up-to-date!\n",
      "[nltk_data] Downloading package stopwords to\n",
      "[nltk_data]     /Users/vineshuniyal/nltk_data...\n",
      "[nltk_data]   Package stopwords is already up-to-date!\n"
     ]
    },
    {
     "data": {
      "text/html": [
       "<div>\n",
       "<style scoped>\n",
       "    .dataframe tbody tr th:only-of-type {\n",
       "        vertical-align: middle;\n",
       "    }\n",
       "\n",
       "    .dataframe tbody tr th {\n",
       "        vertical-align: top;\n",
       "    }\n",
       "\n",
       "    .dataframe thead th {\n",
       "        text-align: right;\n",
       "    }\n",
       "</style>\n",
       "<table border=\"1\" class=\"dataframe\">\n",
       "  <thead>\n",
       "    <tr style=\"text-align: right;\">\n",
       "      <th></th>\n",
       "      <th>Restaurant</th>\n",
       "      <th>Reviewer</th>\n",
       "      <th>Review</th>\n",
       "      <th>Rating</th>\n",
       "      <th>Metadata</th>\n",
       "      <th>Time</th>\n",
       "      <th>Pictures</th>\n",
       "      <th>7514</th>\n",
       "    </tr>\n",
       "  </thead>\n",
       "  <tbody>\n",
       "    <tr>\n",
       "      <th>0</th>\n",
       "      <td>Beyond Flavours</td>\n",
       "      <td>Rusha Chakraborty</td>\n",
       "      <td>The ambience was good, food was quite good . h...</td>\n",
       "      <td>5</td>\n",
       "      <td>1 Review , 2 Followers</td>\n",
       "      <td>5/25/2019 15:54</td>\n",
       "      <td>0</td>\n",
       "      <td>2447.0</td>\n",
       "    </tr>\n",
       "    <tr>\n",
       "      <th>1</th>\n",
       "      <td>Beyond Flavours</td>\n",
       "      <td>Anusha Tirumalaneedi</td>\n",
       "      <td>Ambience is too good for a pleasant evening. S...</td>\n",
       "      <td>5</td>\n",
       "      <td>3 Reviews , 2 Followers</td>\n",
       "      <td>5/25/2019 14:20</td>\n",
       "      <td>0</td>\n",
       "      <td>NaN</td>\n",
       "    </tr>\n",
       "    <tr>\n",
       "      <th>2</th>\n",
       "      <td>Beyond Flavours</td>\n",
       "      <td>Ashok Shekhawat</td>\n",
       "      <td>A must try.. great food great ambience. Thnx f...</td>\n",
       "      <td>5</td>\n",
       "      <td>2 Reviews , 3 Followers</td>\n",
       "      <td>5/24/2019 22:54</td>\n",
       "      <td>0</td>\n",
       "      <td>NaN</td>\n",
       "    </tr>\n",
       "    <tr>\n",
       "      <th>3</th>\n",
       "      <td>Beyond Flavours</td>\n",
       "      <td>Swapnil Sarkar</td>\n",
       "      <td>Soumen das and Arun was a great guy. Only beca...</td>\n",
       "      <td>5</td>\n",
       "      <td>1 Review , 1 Follower</td>\n",
       "      <td>5/24/2019 22:11</td>\n",
       "      <td>0</td>\n",
       "      <td>NaN</td>\n",
       "    </tr>\n",
       "    <tr>\n",
       "      <th>4</th>\n",
       "      <td>Beyond Flavours</td>\n",
       "      <td>Dileep</td>\n",
       "      <td>Food is good.we ordered Kodi drumsticks and ba...</td>\n",
       "      <td>5</td>\n",
       "      <td>3 Reviews , 2 Followers</td>\n",
       "      <td>5/24/2019 21:37</td>\n",
       "      <td>0</td>\n",
       "      <td>NaN</td>\n",
       "    </tr>\n",
       "  </tbody>\n",
       "</table>\n",
       "</div>"
      ],
      "text/plain": [
       "        Restaurant              Reviewer  \\\n",
       "0  Beyond Flavours     Rusha Chakraborty   \n",
       "1  Beyond Flavours  Anusha Tirumalaneedi   \n",
       "2  Beyond Flavours       Ashok Shekhawat   \n",
       "3  Beyond Flavours        Swapnil Sarkar   \n",
       "4  Beyond Flavours                Dileep   \n",
       "\n",
       "                                              Review Rating  \\\n",
       "0  The ambience was good, food was quite good . h...      5   \n",
       "1  Ambience is too good for a pleasant evening. S...      5   \n",
       "2  A must try.. great food great ambience. Thnx f...      5   \n",
       "3  Soumen das and Arun was a great guy. Only beca...      5   \n",
       "4  Food is good.we ordered Kodi drumsticks and ba...      5   \n",
       "\n",
       "                  Metadata             Time  Pictures    7514  \n",
       "0   1 Review , 2 Followers  5/25/2019 15:54         0  2447.0  \n",
       "1  3 Reviews , 2 Followers  5/25/2019 14:20         0     NaN  \n",
       "2  2 Reviews , 3 Followers  5/24/2019 22:54         0     NaN  \n",
       "3    1 Review , 1 Follower  5/24/2019 22:11         0     NaN  \n",
       "4  3 Reviews , 2 Followers  5/24/2019 21:37         0     NaN  "
      ]
     },
     "execution_count": 1,
     "metadata": {},
     "output_type": "execute_result"
    }
   ],
   "source": [
    "from sklearn.feature_extraction.text import CountVectorizer\n",
    "import pandas as pd\n",
    "import numpy as np\n",
    "import matplotlib.pyplot as plt\n",
    "import seaborn as sns\n",
    "import string\n",
    "from textblob import TextBlob\n",
    "from sklearn.model_selection import train_test_split\n",
    "from sklearn.feature_extraction.text import TfidfVectorizer\n",
    "from sklearn.linear_model import LogisticRegression\n",
    "from sklearn.metrics import classification_report, confusion_matrix\n",
    "import re\n",
    "from textblob import TextBlob\n",
    "from vaderSentiment.vaderSentiment import SentimentIntensityAnalyzer\n",
    "from sklearn.model_selection import train_test_split\n",
    "from sklearn.feature_extraction.text import TfidfVectorizer\n",
    "from sklearn.linear_model import LogisticRegression\n",
    "from sklearn.metrics import classification_report, accuracy_score\n",
    "import nltk\n",
    "nltk.download('punkt')\n",
    "nltk.download('stopwords')\n",
    "df = pd.read_csv(\"Downloads/Restaurant reviews.csv\")\n",
    "\n",
    "\n",
    "df.head()\n"
   ]
  },
  {
   "cell_type": "code",
   "execution_count": 2,
   "id": "054ce32c-dc50-40ae-99dd-0d5c66016354",
   "metadata": {},
   "outputs": [
    {
     "name": "stdout",
     "output_type": "stream",
     "text": [
      "<class 'pandas.core.frame.DataFrame'>\n",
      "RangeIndex: 10000 entries, 0 to 9999\n",
      "Data columns (total 8 columns):\n",
      " #   Column      Non-Null Count  Dtype  \n",
      "---  ------      --------------  -----  \n",
      " 0   Restaurant  10000 non-null  object \n",
      " 1   Reviewer    9962 non-null   object \n",
      " 2   Review      9955 non-null   object \n",
      " 3   Rating      9962 non-null   object \n",
      " 4   Metadata    9962 non-null   object \n",
      " 5   Time        9962 non-null   object \n",
      " 6   Pictures    10000 non-null  int64  \n",
      " 7   7514        1 non-null      float64\n",
      "dtypes: float64(1), int64(1), object(6)\n",
      "memory usage: 625.1+ KB\n"
     ]
    }
   ],
   "source": [
    "df.info()"
   ]
  },
  {
   "cell_type": "code",
   "execution_count": 3,
   "id": "81b31f8f-1752-4c2a-b4a9-11815e982925",
   "metadata": {},
   "outputs": [
    {
     "data": {
      "text/plain": [
       "Rating\n",
       "5       3832\n",
       "4       2373\n",
       "1       1735\n",
       "3       1193\n",
       "2        684\n",
       "4.5       69\n",
       "3.5       47\n",
       "2.5       19\n",
       "1.5        9\n",
       "Like       1\n",
       "Name: count, dtype: int64"
      ]
     },
     "execution_count": 3,
     "metadata": {},
     "output_type": "execute_result"
    }
   ],
   "source": [
    "df['Rating'].value_counts()"
   ]
  },
  {
   "cell_type": "code",
   "execution_count": 4,
   "id": "9259eb66-317f-499a-a209-492cc2c91810",
   "metadata": {},
   "outputs": [],
   "source": [
    "df.drop(index=df[df['Rating']=='Like'].index,inplace=True)"
   ]
  },
  {
   "cell_type": "code",
   "execution_count": 24,
   "id": "7d87a44c-0084-4332-9e16-1f0097f641b3",
   "metadata": {},
   "outputs": [
    {
     "data": {
      "text/plain": [
       "0    positive\n",
       "1    positive\n",
       "2    positive\n",
       "3    positive\n",
       "4    positive\n",
       "Name: binary_sentiment, dtype: object"
      ]
     },
     "execution_count": 24,
     "metadata": {},
     "output_type": "execute_result"
    }
   ],
   "source": [
    "def rating_to_sentiment(rating):\n",
    "    if rating >= 4:\n",
    "        return 'positive'\n",
    "    elif rating == 3:\n",
    "        return 'neutral'\n",
    "    else:\n",
    "        return 'negative'\n",
    "df['Rating'] = df['Rating'].apply(float)\n",
    "df['sentiment'] = df['Rating'].apply(rating_to_sentiment)\n",
    "df['binary_sentiment'] = df['Rating'].apply(lambda x: 'positive' if x >= 4 else 'negative')\n",
    "df['binary_sentiment'].head()"
   ]
  },
  {
   "cell_type": "code",
   "execution_count": 6,
   "id": "4c68d3bf-610c-4981-9575-0afca1b635a3",
   "metadata": {},
   "outputs": [],
   "source": [
    "# # analyzer = SentimentIntensityAnalyzer()\n",
    "\n",
    "# # def get_vader_sentiment(text):\n",
    "# #     scores = analyzer.polarity_scores(text)\n",
    "# #     if scores['compound'] >= 0.05:\n",
    "# #         return 'positive'\n",
    "# #     elif scores['compound'] <= -0.05:\n",
    "# #         return 'negative'\n",
    "# #     else:\n",
    "# #         return 'neutral'\n",
    "\n",
    "# # df['vader_sentiment'] = df['cleaned_comments'].apply(get_vader_sentiment)\n",
    "\n",
    "# # from sklearn.metrics import accuracy_score\n",
    "# # vader_accuracy = accuracy_score(df['sentiment'], df['vader_sentiment'])\n",
    "# # print(f\"VADER Accuracy: {vader_accuracy:.3f}\")\n",
    "# # print(df['sentiment'].value_counts())\n",
    "# # print(df['vader_sentiment'].value_counts())\n",
    "\n",
    "# # df['combined_sentiment'] = df.apply(\n",
    "# #     lambda x: 'negative' if x['vader_sentiment'] == 'negative' else\n",
    "# #               'neutral' if x['vader_sentiment'] == 'neutral' else 'positive', axis=1)\n",
    "# # df['combined_sentiment'].head()\n",
    "# df.drop(index=df[df['Rating']=='Like'].index,inplace=True)\n",
    "# df['Rating'] = df['Rating'].astype(float)\n",
    "# def map_rating_to_sentiment(rating):\n",
    "#     if rating > 3:\n",
    "#         return 'positive'\n",
    "#     elif rating == 3:\n",
    "#         return 'neutral'\n",
    "#     else:\n",
    "#         return 'negative'\n",
    "\n",
    "# df['sentiment'] = df['Rating'].apply(map_rating_to_sentiment)"
   ]
  },
  {
   "cell_type": "code",
   "execution_count": 25,
   "id": "4f111929-4fa3-4a09-8d89-e8e4df30bf0f",
   "metadata": {},
   "outputs": [
    {
     "data": {
      "text/plain": [
       "'hi im i cannot eat this h'"
      ]
     },
     "execution_count": 25,
     "metadata": {},
     "output_type": "execute_result"
    }
   ],
   "source": [
    "def preprocess_text(text):\n",
    "    text = text.lower()\n",
    "    text = text.replace(\"don't\", \"do not\")\n",
    "    text = text.replace(\"won't\", \"will not\")\n",
    "    text = text.replace(\"can't\", \"cannot\")\n",
    "    text = text.replace(\"n't\", \" not\")\n",
    "    text = re.sub(r'[^a-zA-Z\\s]', '', text)\n",
    "    text = re.sub(r'\\s+', ' ', text).strip()\n",
    "    \n",
    "\n",
    "    return text\n",
    "df['Review'] = df['Review'].fillna(\"\")\n",
    "df['cleaned_comments'] = df['Review'].apply(preprocess_text)\n",
    "preprocess_text(\"Hi I'm 9876576767 8787878787 I can't 9 eat this &^%H@#$%\")"
   ]
  },
  {
   "cell_type": "code",
   "execution_count": 26,
   "id": "84e9f9d1-1b6c-4566-9a41-828fcca8d6da",
   "metadata": {},
   "outputs": [
    {
     "data": {
      "text/plain": [
       "sentiment\n",
       "positive    6274\n",
       "negative    2532\n",
       "neutral     1193\n",
       "Name: count, dtype: int64"
      ]
     },
     "execution_count": 26,
     "metadata": {},
     "output_type": "execute_result"
    }
   ],
   "source": [
    "df['sentiment'].value_counts()"
   ]
  },
  {
   "cell_type": "code",
   "execution_count": 27,
   "id": "abd62338-0cc2-4a91-ae5f-49128b244965",
   "metadata": {},
   "outputs": [
    {
     "name": "stdout",
     "output_type": "stream",
     "text": [
      "\n",
      "Most Frequent Words:\n",
      "good        7007\n",
      "food        6488\n",
      "place       5663\n",
      "service     3156\n",
      "chicken     3043\n",
      "taste       2214\n",
      "ordered     2163\n",
      "ambience    2044\n",
      "great       1936\n",
      "really      1659\n",
      "dtype: int64\n"
     ]
    }
   ],
   "source": [
    "vectorizer = CountVectorizer(stop_words='english', lowercase=True)\n",
    "\n",
    "X = vectorizer.fit_transform(df['cleaned_comments'])\n",
    "y = df['sentiment'] \n",
    "X_train, X_test, y_train, y_test = train_test_split(X, y, test_size=0.2, random_state=42)\n",
    "\n",
    "feature_names = vectorizer.get_feature_names_out()\n",
    "\n",
    "bow_df = pd.DataFrame(X.toarray(), columns=feature_names)\n",
    "\n",
    "word_frequencies = bow_df.sum().sort_values(ascending=False)\n",
    "print(\"\\nMost Frequent Words:\")\n",
    "print(word_frequencies.head(10))\n",
    "\n"
   ]
  },
  {
   "cell_type": "code",
   "execution_count": 28,
   "id": "436af10e-ee1d-4c77-857e-c28909a543f6",
   "metadata": {},
   "outputs": [
    {
     "name": "stdout",
     "output_type": "stream",
     "text": [
      "\n",
      "Model: Naive Bayes\n",
      "Accuracy: 0.808\n",
      "              precision    recall  f1-score   support\n",
      "\n",
      "    negative       0.80      0.78      0.79       518\n",
      "     neutral       0.42      0.08      0.14       234\n",
      "    positive       0.82      0.95      0.88      1248\n",
      "\n",
      "    accuracy                           0.81      2000\n",
      "   macro avg       0.68      0.61      0.60      2000\n",
      "weighted avg       0.77      0.81      0.77      2000\n",
      "\n",
      "\n",
      "Model: Logistic Regression\n",
      "Accuracy: 0.806\n",
      "              precision    recall  f1-score   support\n",
      "\n",
      "    negative       0.79      0.76      0.77       518\n",
      "     neutral       0.45      0.29      0.36       234\n",
      "    positive       0.85      0.92      0.89      1248\n",
      "\n",
      "    accuracy                           0.81      2000\n",
      "   macro avg       0.70      0.66      0.67      2000\n",
      "weighted avg       0.79      0.81      0.80      2000\n",
      "\n",
      "\n",
      "Model: Linear SVC\n",
      "Accuracy: 0.783\n",
      "              precision    recall  f1-score   support\n",
      "\n",
      "    negative       0.77      0.74      0.75       518\n",
      "     neutral       0.37      0.32      0.35       234\n",
      "    positive       0.86      0.89      0.87      1248\n",
      "\n",
      "    accuracy                           0.78      2000\n",
      "   macro avg       0.66      0.65      0.66      2000\n",
      "weighted avg       0.78      0.78      0.78      2000\n",
      "\n",
      "\n",
      "Model: Random Forest\n",
      "Accuracy: 0.804\n",
      "              precision    recall  f1-score   support\n",
      "\n",
      "    negative       0.78      0.76      0.77       518\n",
      "     neutral       0.55      0.07      0.12       234\n",
      "    positive       0.82      0.96      0.88      1248\n",
      "\n",
      "    accuracy                           0.80      2000\n",
      "   macro avg       0.72      0.60      0.59      2000\n",
      "weighted avg       0.78      0.80      0.77      2000\n",
      "\n"
     ]
    }
   ],
   "source": [
    "from sklearn.naive_bayes import MultinomialNB\n",
    "from sklearn.linear_model import LogisticRegression\n",
    "from sklearn.svm import LinearSVC\n",
    "from sklearn.ensemble import RandomForestClassifier\n",
    "from sklearn.metrics import accuracy_score, classification_report\n",
    "\n",
    "models = {\n",
    "    \"Naive Bayes\": MultinomialNB(),\n",
    "    \"Logistic Regression\": LogisticRegression(max_iter=1000),\n",
    "    \"Linear SVC\": LinearSVC(),\n",
    "    \"Random Forest\": RandomForestClassifier(n_estimators=100, random_state=42),\n",
    "}\n",
    "\n",
    "results = {}\n",
    "\n",
    "for name, model in models.items():\n",
    "    model.fit(X_train, y_train)\n",
    "    preds = model.predict(X_test)\n",
    "    acc = accuracy_score(y_test, preds)\n",
    "    print(f\"\\nModel: {name}\")\n",
    "    print(f\"Accuracy: {acc:.3f}\")\n",
    "    print(classification_report(y_test, preds))\n",
    "    results[name] = acc"
   ]
  },
  {
   "cell_type": "code",
   "execution_count": 29,
   "id": "9ade6240-0f3a-4868-8436-c8277f1056ab",
   "metadata": {},
   "outputs": [
    {
     "data": {
      "image/png": "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",
      "text/plain": [
       "<Figure size 640x480 with 1 Axes>"
      ]
     },
     "metadata": {},
     "output_type": "display_data"
    }
   ],
   "source": [
    "plt.bar(results.keys(), results.values())\n",
    "plt.ylabel('Accuracy')\n",
    "plt.title('Model Comparison')\n",
    "plt.xticks(rotation=45)\n",
    "plt.ylim(0, 1)\n",
    "plt.show()"
   ]
  },
  {
   "cell_type": "code",
   "execution_count": 30,
   "id": "27597000-74d6-43b8-a5b3-254c2e4f09da",
   "metadata": {},
   "outputs": [
    {
     "name": "stdout",
     "output_type": "stream",
     "text": [
      "\n",
      "Most Frequent Words:\n",
      "good        856.523212\n",
      "food        464.160687\n",
      "place       379.657042\n",
      "service     298.303116\n",
      "chicken     247.448685\n",
      "nice        237.261424\n",
      "taste       233.074320\n",
      "great       219.674277\n",
      "ambience    199.078084\n",
      "time        197.505645\n",
      "dtype: float64\n"
     ]
    }
   ],
   "source": [
    "vectorizer = TfidfVectorizer(stop_words='english', lowercase=True)\n",
    "\n",
    "X = vectorizer.fit_transform(df['cleaned_comments'])\n",
    "y = df['sentiment'] \n",
    "X_train, X_test, y_train, y_test = train_test_split(X, y, test_size=0.2, random_state=42)\n",
    "\n",
    "feature_names = vectorizer.get_feature_names_out()\n",
    "\n",
    "bow_df = pd.DataFrame(X.toarray(), columns=feature_names)\n",
    "\n",
    "word_frequencies = bow_df.sum().sort_values(ascending=False)\n",
    "print(\"\\nMost Frequent Words:\")\n",
    "print(word_frequencies.head(10))\n",
    "\n"
   ]
  },
  {
   "cell_type": "code",
   "execution_count": 31,
   "id": "e009f7a7-6cf3-442b-8d98-1dec12b22d38",
   "metadata": {},
   "outputs": [
    {
     "name": "stdout",
     "output_type": "stream",
     "text": [
      "\n",
      "Model: Naive Bayes\n",
      "Accuracy: 0.734\n",
      "              precision    recall  f1-score   support\n",
      "\n",
      "    negative       0.94      0.43      0.59       518\n",
      "     neutral       0.00      0.00      0.00       234\n",
      "    positive       0.71      1.00      0.83      1248\n",
      "\n",
      "    accuracy                           0.73      2000\n",
      "   macro avg       0.55      0.48      0.47      2000\n",
      "weighted avg       0.69      0.73      0.67      2000\n",
      "\n"
     ]
    },
    {
     "name": "stderr",
     "output_type": "stream",
     "text": [
      "/Library/Frameworks/Python.framework/Versions/3.12/lib/python3.12/site-packages/sklearn/metrics/_classification.py:1731: UndefinedMetricWarning: Precision is ill-defined and being set to 0.0 in labels with no predicted samples. Use `zero_division` parameter to control this behavior.\n",
      "  _warn_prf(average, modifier, f\"{metric.capitalize()} is\", result.shape[0])\n",
      "/Library/Frameworks/Python.framework/Versions/3.12/lib/python3.12/site-packages/sklearn/metrics/_classification.py:1731: UndefinedMetricWarning: Precision is ill-defined and being set to 0.0 in labels with no predicted samples. Use `zero_division` parameter to control this behavior.\n",
      "  _warn_prf(average, modifier, f\"{metric.capitalize()} is\", result.shape[0])\n",
      "/Library/Frameworks/Python.framework/Versions/3.12/lib/python3.12/site-packages/sklearn/metrics/_classification.py:1731: UndefinedMetricWarning: Precision is ill-defined and being set to 0.0 in labels with no predicted samples. Use `zero_division` parameter to control this behavior.\n",
      "  _warn_prf(average, modifier, f\"{metric.capitalize()} is\", result.shape[0])\n"
     ]
    },
    {
     "name": "stdout",
     "output_type": "stream",
     "text": [
      "\n",
      "Model: Logistic Regression\n",
      "Accuracy: 0.780\n",
      "              precision    recall  f1-score   support\n",
      "\n",
      "    negative       0.75      0.82      0.79       518\n",
      "     neutral       0.36      0.54      0.43       234\n",
      "    positive       0.93      0.81      0.86      1248\n",
      "\n",
      "    accuracy                           0.78      2000\n",
      "   macro avg       0.68      0.72      0.69      2000\n",
      "weighted avg       0.82      0.78      0.79      2000\n",
      "\n",
      "\n",
      "Model: Linear SVC\n",
      "Accuracy: 0.815\n",
      "              precision    recall  f1-score   support\n",
      "\n",
      "    negative       0.79      0.78      0.79       518\n",
      "     neutral       0.45      0.20      0.27       234\n",
      "    positive       0.85      0.95      0.90      1248\n",
      "\n",
      "    accuracy                           0.81      2000\n",
      "   macro avg       0.70      0.64      0.65      2000\n",
      "weighted avg       0.79      0.81      0.79      2000\n",
      "\n",
      "\n",
      "Model: Random Forest\n",
      "Accuracy: 0.802\n",
      "              precision    recall  f1-score   support\n",
      "\n",
      "    negative       0.79      0.76      0.77       518\n",
      "     neutral       0.50      0.03      0.06       234\n",
      "    positive       0.81      0.96      0.88      1248\n",
      "\n",
      "    accuracy                           0.80      2000\n",
      "   macro avg       0.70      0.59      0.57      2000\n",
      "weighted avg       0.77      0.80      0.76      2000\n",
      "\n"
     ]
    }
   ],
   "source": [
    "from sklearn.naive_bayes import MultinomialNB\n",
    "from sklearn.linear_model import LogisticRegression\n",
    "from sklearn.svm import LinearSVC\n",
    "from sklearn.ensemble import RandomForestClassifier\n",
    "from sklearn.metrics import accuracy_score, classification_report\n",
    "\n",
    "models = {\n",
    "    \"Naive Bayes\": MultinomialNB(),\n",
    "    \"Logistic Regression\": LogisticRegression(max_iter=1000, class_weight= 'balanced'),\n",
    "    \"Linear SVC\": LinearSVC(),\n",
    "    \"Random Forest\": RandomForestClassifier(n_estimators=100, random_state=42),\n",
    "}\n",
    "\n",
    "results = {}\n",
    "\n",
    "for name, model in models.items():\n",
    "    model.fit(X_train, y_train)\n",
    "    preds = model.predict(X_test)\n",
    "    acc = accuracy_score(y_test, preds)\n",
    "    print(f\"\\nModel: {name}\")\n",
    "    print(f\"Accuracy: {acc:.3f}\")\n",
    "    print(classification_report(y_test, preds))\n",
    "    results[name] = acc"
   ]
  },
  {
   "cell_type": "code",
   "execution_count": 32,
   "id": "2226a89f-e73c-4195-bbb3-78474b76ecab",
   "metadata": {},
   "outputs": [
    {
     "data": {
      "text/plain": [
       "'cat run fast cat'"
      ]
     },
     "execution_count": 32,
     "metadata": {},
     "output_type": "execute_result"
    }
   ],
   "source": [
    "import spacy\n",
    "nlp = spacy.load('en_core_web_sm')\n",
    "def spacy_lemmatize(text):\n",
    "    doc = nlp(text.lower())\n",
    "    lemmatized = [\n",
    "        token.lemma_ for token in doc \n",
    "        if not token.is_stop and not token.is_punct\n",
    "    ]\n",
    "    return ' '.join(lemmatized)\n",
    "\n",
    "spacy_lemmatize(\"the cats are running faster than the other cat.\")"
   ]
  },
  {
   "cell_type": "code",
   "execution_count": 33,
   "id": "385347d4-42ea-4582-8e8a-0975063f8397",
   "metadata": {},
   "outputs": [],
   "source": [
    "df['lemmatized_comments'] = df['cleaned_comments'].apply(spacy_lemmatize)"
   ]
  },
  {
   "cell_type": "code",
   "execution_count": 34,
   "id": "3e12f716-d997-49b0-9008-9fff9eb81993",
   "metadata": {},
   "outputs": [],
   "source": [
    "vectorizer = CountVectorizer(stop_words='english', lowercase=True)\n",
    "X = vectorizer.fit_transform(df['lemmatized_comments'])\n",
    "y = df['sentiment'] \n",
    "X_train, X_test, y_train, y_test = train_test_split(X, y, test_size=0.2, random_state=42)"
   ]
  },
  {
   "cell_type": "code",
   "execution_count": 35,
   "id": "8470b5e5-ffb7-4eb6-a83f-ce69d3fd93de",
   "metadata": {},
   "outputs": [
    {
     "name": "stdout",
     "output_type": "stream",
     "text": [
      "\n",
      "Model: Naive Bayes\n",
      "Accuracy: 0.803\n",
      "              precision    recall  f1-score   support\n",
      "\n",
      "    negative       0.80      0.77      0.78       518\n",
      "     neutral       0.43      0.09      0.15       234\n",
      "    positive       0.82      0.95      0.88      1248\n",
      "\n",
      "    accuracy                           0.80      2000\n",
      "   macro avg       0.68      0.60      0.61      2000\n",
      "weighted avg       0.77      0.80      0.77      2000\n",
      "\n",
      "\n",
      "Model: Logistic Regression\n",
      "Accuracy: 0.780\n",
      "              precision    recall  f1-score   support\n",
      "\n",
      "    negative       0.76      0.79      0.77       518\n",
      "     neutral       0.36      0.44      0.40       234\n",
      "    positive       0.89      0.84      0.86      1248\n",
      "\n",
      "    accuracy                           0.78      2000\n",
      "   macro avg       0.67      0.69      0.68      2000\n",
      "weighted avg       0.80      0.78      0.79      2000\n",
      "\n",
      "\n",
      "Model: Linear SVC\n",
      "Accuracy: 0.778\n",
      "              precision    recall  f1-score   support\n",
      "\n",
      "    negative       0.75      0.74      0.75       518\n",
      "     neutral       0.37      0.29      0.33       234\n",
      "    positive       0.85      0.88      0.87      1248\n",
      "\n",
      "    accuracy                           0.78      2000\n",
      "   macro avg       0.66      0.64      0.65      2000\n",
      "weighted avg       0.77      0.78      0.77      2000\n",
      "\n",
      "\n",
      "Model: Random Forest\n",
      "Accuracy: 0.806\n",
      "              precision    recall  f1-score   support\n",
      "\n",
      "    negative       0.78      0.77      0.78       518\n",
      "     neutral       0.59      0.07      0.12       234\n",
      "    positive       0.82      0.96      0.88      1248\n",
      "\n",
      "    accuracy                           0.81      2000\n",
      "   macro avg       0.73      0.60      0.59      2000\n",
      "weighted avg       0.78      0.81      0.77      2000\n",
      "\n"
     ]
    }
   ],
   "source": [
    "from sklearn.naive_bayes import MultinomialNB\n",
    "from sklearn.linear_model import LogisticRegression\n",
    "from sklearn.svm import LinearSVC\n",
    "from sklearn.ensemble import RandomForestClassifier\n",
    "from sklearn.metrics import accuracy_score, classification_report\n",
    "\n",
    "models = {\n",
    "    \"Naive Bayes\": MultinomialNB(),\n",
    "    \"Logistic Regression\": LogisticRegression(max_iter=1000, class_weight= 'balanced'),\n",
    "    \"Linear SVC\": LinearSVC(),\n",
    "    \"Random Forest\": RandomForestClassifier(n_estimators=100, random_state=42),\n",
    "}\n",
    "\n",
    "results = {}\n",
    "\n",
    "for name, model in models.items():\n",
    "    model.fit(X_train, y_train)\n",
    "    preds = model.predict(X_test)\n",
    "    acc = accuracy_score(y_test, preds)\n",
    "    print(f\"\\nModel: {name}\")\n",
    "    print(f\"Accuracy: {acc:.3f}\")\n",
    "    print(classification_report(y_test, preds))\n",
    "    results[name] = acc"
   ]
  },
  {
   "cell_type": "code",
   "execution_count": 36,
   "id": "967c68cb-a849-4b95-931f-9a06f4c032bc",
   "metadata": {},
   "outputs": [],
   "source": [
    "vectorizer = TfidfVectorizer(stop_words='english', lowercase=True)\n",
    "\n",
    "X = vectorizer.fit_transform(df['lemmatized_comments'])\n",
    "y = df['sentiment'] \n",
    "X_train, X_test, y_train, y_test = train_test_split(X, y, test_size=0.2, random_state=42)\n",
    "\n"
   ]
  },
  {
   "cell_type": "code",
   "execution_count": 37,
   "id": "991ec2d6-cf19-4695-89bd-aa0ea369a447",
   "metadata": {},
   "outputs": [
    {
     "name": "stdout",
     "output_type": "stream",
     "text": [
      "\n",
      "Model: Naive Bayes\n",
      "Accuracy: 0.732\n",
      "              precision    recall  f1-score   support\n",
      "\n",
      "    negative       0.94      0.42      0.58       518\n",
      "     neutral       0.00      0.00      0.00       234\n",
      "    positive       0.70      1.00      0.83      1248\n",
      "\n",
      "    accuracy                           0.73      2000\n",
      "   macro avg       0.55      0.47      0.47      2000\n",
      "weighted avg       0.68      0.73      0.67      2000\n",
      "\n"
     ]
    },
    {
     "name": "stderr",
     "output_type": "stream",
     "text": [
      "/Library/Frameworks/Python.framework/Versions/3.12/lib/python3.12/site-packages/sklearn/metrics/_classification.py:1731: UndefinedMetricWarning: Precision is ill-defined and being set to 0.0 in labels with no predicted samples. Use `zero_division` parameter to control this behavior.\n",
      "  _warn_prf(average, modifier, f\"{metric.capitalize()} is\", result.shape[0])\n",
      "/Library/Frameworks/Python.framework/Versions/3.12/lib/python3.12/site-packages/sklearn/metrics/_classification.py:1731: UndefinedMetricWarning: Precision is ill-defined and being set to 0.0 in labels with no predicted samples. Use `zero_division` parameter to control this behavior.\n",
      "  _warn_prf(average, modifier, f\"{metric.capitalize()} is\", result.shape[0])\n",
      "/Library/Frameworks/Python.framework/Versions/3.12/lib/python3.12/site-packages/sklearn/metrics/_classification.py:1731: UndefinedMetricWarning: Precision is ill-defined and being set to 0.0 in labels with no predicted samples. Use `zero_division` parameter to control this behavior.\n",
      "  _warn_prf(average, modifier, f\"{metric.capitalize()} is\", result.shape[0])\n"
     ]
    },
    {
     "name": "stdout",
     "output_type": "stream",
     "text": [
      "\n",
      "Model: Logistic Regression\n",
      "Accuracy: 0.765\n",
      "              precision    recall  f1-score   support\n",
      "\n",
      "    negative       0.74      0.80      0.77       518\n",
      "     neutral       0.33      0.50      0.40       234\n",
      "    positive       0.92      0.80      0.86      1248\n",
      "\n",
      "    accuracy                           0.77      2000\n",
      "   macro avg       0.66      0.70      0.67      2000\n",
      "weighted avg       0.80      0.77      0.78      2000\n",
      "\n",
      "\n",
      "Model: Linear SVC\n",
      "Accuracy: 0.810\n",
      "              precision    recall  f1-score   support\n",
      "\n",
      "    negative       0.78      0.77      0.77       518\n",
      "     neutral       0.47      0.21      0.29       234\n",
      "    positive       0.85      0.94      0.89      1248\n",
      "\n",
      "    accuracy                           0.81      2000\n",
      "   macro avg       0.70      0.64      0.65      2000\n",
      "weighted avg       0.79      0.81      0.79      2000\n",
      "\n",
      "\n",
      "Model: Random Forest\n",
      "Accuracy: 0.801\n",
      "              precision    recall  f1-score   support\n",
      "\n",
      "    negative       0.78      0.76      0.77       518\n",
      "     neutral       0.59      0.04      0.08       234\n",
      "    positive       0.81      0.96      0.88      1248\n",
      "\n",
      "    accuracy                           0.80      2000\n",
      "   macro avg       0.73      0.59      0.58      2000\n",
      "weighted avg       0.78      0.80      0.76      2000\n",
      "\n"
     ]
    }
   ],
   "source": [
    "from sklearn.naive_bayes import MultinomialNB\n",
    "from sklearn.linear_model import LogisticRegression\n",
    "from sklearn.svm import LinearSVC\n",
    "from sklearn.ensemble import RandomForestClassifier\n",
    "from sklearn.metrics import accuracy_score, classification_report\n",
    "\n",
    "models = {\n",
    "    \"Naive Bayes\": MultinomialNB(),\n",
    "    \"Logistic Regression\": LogisticRegression(max_iter=1000, class_weight= 'balanced'),\n",
    "    \"Linear SVC\": LinearSVC(),\n",
    "    \"Random Forest\": RandomForestClassifier(n_estimators=100, random_state=42),\n",
    "}\n",
    "\n",
    "results = {}\n",
    "\n",
    "for name, model in models.items():\n",
    "    model.fit(X_train, y_train)\n",
    "    preds = model.predict(X_test)\n",
    "    acc = accuracy_score(y_test, preds)\n",
    "    print(f\"\\nModel: {name}\")\n",
    "    print(f\"Accuracy: {acc:.3f}\")\n",
    "    print(classification_report(y_test, preds))\n",
    "    results[name] = acc"
   ]
  },
  
